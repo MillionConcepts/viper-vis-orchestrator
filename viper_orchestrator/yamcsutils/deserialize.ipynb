{
 "cells": [
  {
   "cell_type": "code",
   "execution_count": 1,
   "id": "5b4353e1",
   "metadata": {},
   "outputs": [],
   "source": [
    "\"\"\"notebook for examining the parameters extracted from the yamcs-server.\"\"\"\n",
    "import dill"
   ]
  },
  {
   "cell_type": "code",
   "execution_count": null,
   "id": "a2c2a6bd",
   "metadata": {},
   "outputs": [],
   "source": [
    "# these will be dicts/OrderedDicts\n",
    "with open(\"yamcs_parameters_as_unpacked.dill\", \"rb\") as stream:\n",
    "    as_unpacked = dill.load(stream)"
   ]
  },
  {
   "cell_type": "code",
   "execution_count": null,
   "id": "4f341e7a",
   "metadata": {},
   "outputs": [],
   "source": [
    "# these will be yamcs-client ParameterData objects\n",
    "with open(\"yamcs_parameters_as_received.dill\", \"rb\") as stream:\n",
    "    as_received = dill.load(stream)"
   ]
  }
 ],
 "metadata": {
  "kernelspec": {
   "display_name": "Python 3 (ipykernel)",
   "language": "python",
   "name": "python3"
  },
  "language_info": {
   "codemirror_mode": {
    "name": "ipython",
    "version": 3
   },
   "file_extension": ".py",
   "mimetype": "text/x-python",
   "name": "python",
   "nbconvert_exporter": "python",
   "pygments_lexer": "ipython3",
   "version": "3.11.4"
  }
 },
 "nbformat": 4,
 "nbformat_minor": 5
}

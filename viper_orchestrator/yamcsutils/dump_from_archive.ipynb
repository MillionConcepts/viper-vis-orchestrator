{
 "cells": [
  {
   "cell_type": "code",
   "execution_count": 1,
   "id": "1fc83f2c",
   "metadata": {},
   "outputs": [],
   "source": [
    "import datetime as dt\n",
    "import pickle\n",
    "\n",
    "from hostess.subutils import Viewer\n",
    "from yamcs.client import YamcsClient"
   ]
  },
  {
   "cell_type": "code",
   "execution_count": 2,
   "id": "d2394120",
   "metadata": {},
   "outputs": [],
   "source": [
    "of_interest = (\n",
    "    '/ViperGround/Images/ImageData/Hazcam_back_left_icer',\n",
    "    '/ViperGround/Images/ImageData/Hazcam_back_right_icer',\n",
    "    '/ViperGround/Images/ImageData/Hazcam_front_left_icer',\n",
    "    '/ViperGround/Images/ImageData/Hazcam_front_right_icer',\n",
    "    \"/ViperGround/Images/ImageData/Navcam_left_icer\",\n",
    "    \"/ViperGround/Images/ImageData/Navcam_right_icer\",\n",
    "    \"/ViperGround/Images/ImageData/Aftcam_left_icer\",\n",
    "    \"/ViperGround/Images/ImageData/Aftcam_right_icer\",\n",
    "    \"/ViperRover/LightsControl/state\"\n",
    ")"
   ]
  },
  {
   "cell_type": "code",
   "execution_count": 3,
   "id": "2b97d28b",
   "metadata": {},
   "outputs": [],
   "source": [
    "def unpack_parameter_value(value):\n",
    "    rec = {}\n",
    "    for key in (\n",
    "        'eng_value',\n",
    "        'generation_time',\n",
    "        'monitoring_result',\n",
    "        'name',\n",
    "        'processing_status',\n",
    "        'range_condition',\n",
    "        'raw_value',\n",
    "        'reception_time',\n",
    "        'validity_duration',\n",
    "        'validity_status'\n",
    "    ):\n",
    "        rec[key] = getattr(value, key)\n",
    "    return rec\n",
    "\n",
    "def unpack_parameters(messages):\n",
    "    return [\n",
    "        unpack_parameter_value(value) \n",
    "        for value in messages.parameters\n",
    "    ]"
   ]
  },
  {
   "cell_type": "code",
   "execution_count": 4,
   "id": "c5f5fbd0-1a4c-422c-9d19-741090b7d1db",
   "metadata": {},
   "outputs": [],
   "source": [
    "server_process = Viewer.from_command(\n",
    "    \"build_9/viper-yamcs-9.0.0-SNAPSHOT-8db3782c13/viper-yamcs-9.0.0-SNAPSHOT/bin/yamcsd\", \n",
    "    _bg=True,\n",
    ")\n",
    "yamcsd_url = 'localhost:8090/yamcs'\n",
    "server_process.wait_for_output('err')"
   ]
  },
  {
   "cell_type": "code",
   "execution_count": 8,
   "id": "f194036d-b857-4e02-a203-0f8c7ce0fe2e",
   "metadata": {},
   "outputs": [],
   "source": [
    "client = YamcsClient(yamcsd_url)\n",
    "archive = client.get_archive('viper')\n",
    "\n",
    "results = []\n",
    "vals = archive.stream_parameter_values(\n",
    "    of_interest,\n",
    "    # unnecessarily large range but whatever\n",
    "    start=dt.datetime(2023, 1, 1, 0, 0, 0, tzinfo=dt.timezone.utc),\n",
    "    stop=dt.datetime(2024, 12, 15, 0, 0, 0, tzinfo=dt.timezone.utc)\n",
    ")\n",
    "for val in vals:\n",
    "    results += unpack_parameters(val)\n",
    "server_process.terminate()"
   ]
  },
  {
   "cell_type": "code",
   "execution_count": 11,
   "id": "3c369cb2-ac79-40f5-8a38-1febd0002ea5",
   "metadata": {},
   "outputs": [
    {
     "data": {
      "text/plain": [
       "datetime.datetime(2024, 11, 13, 18, 19, 35, 346000, tzinfo=datetime.timezone(datetime.timedelta(days=-1, seconds=68400), 'EST'))"
      ]
     },
     "execution_count": 11,
     "metadata": {},
     "output_type": "execute_result"
    }
   ],
   "source": [
    "results[0]['generation_time']"
   ]
  },
  {
   "cell_type": "code",
   "execution_count": null,
   "id": "9c0d2cd0",
   "metadata": {},
   "outputs": [],
   "source": [
    "with open('of_interest_23_10_04.pkl', 'wb') as stream:\n",
    "    pickle.dump(results, stream)"
   ]
  }
 ],
 "metadata": {
  "kernelspec": {
   "display_name": "Python 3 (ipykernel)",
   "language": "python",
   "name": "python3"
  },
  "language_info": {
   "codemirror_mode": {
    "name": "ipython",
    "version": 3
   },
   "file_extension": ".py",
   "mimetype": "text/x-python",
   "name": "python",
   "nbconvert_exporter": "python",
   "pygments_lexer": "ipython3",
   "version": "3.11.4"
  }
 },
 "nbformat": 4,
 "nbformat_minor": 5
}

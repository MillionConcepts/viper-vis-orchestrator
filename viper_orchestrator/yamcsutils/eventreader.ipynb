{
 "cells": [
  {
   "cell_type": "code",
   "execution_count": null,
   "id": "3f546457",
   "metadata": {},
   "outputs": [],
   "source": [
    "\"\"\"utilities for reading and reformatting parameter records\"\"\"\n",
    "from pyarrow import parquet\n",
    "\n",
    "from viper_orchestrator.yamcsutils.parameter_record_helpers import (\n",
    "    unpack_pickled_parameters, pivot_blobs, write_parquet_and_blobs, cast_to_nullable_integer\n",
    ")"
   ]
  },
  {
   "cell_type": "code",
   "execution_count": null,
   "id": "d6fbe76f",
   "metadata": {},
   "outputs": [],
   "source": [
    "# make the table and blobs\n",
    "param_df = unpack_pickled_parameters('of_interest_23_10_04.pkl')\n",
    "rec_df, bytevals, bytefields = pivot_blobs(param_df)\n",
    "write_parquet_and_blobs(rec_df, bytevals, bytefields, 'mock_events_build_9')"
   ]
  },
  {
   "cell_type": "code",
   "execution_count": null,
   "id": "0e2e4f52-3972-4715-b590-cab8e3dce1f3",
   "metadata": {},
   "outputs": [],
   "source": [
    "# read the table\n",
    "ievents = cast_to_nullable_integer(\n",
    "    parquet.read_table('mock_events_build_9/events.parquet').to_pandas()\n",
    ")"
   ]
  }
 ],
 "metadata": {
  "kernelspec": {
   "display_name": "Python 3 (ipykernel)",
   "language": "python",
   "name": "python3"
  },
  "language_info": {
   "codemirror_mode": {
    "name": "ipython",
    "version": 3
   },
   "file_extension": ".py",
   "mimetype": "text/x-python",
   "name": "python",
   "nbconvert_exporter": "python",
   "pygments_lexer": "ipython3",
   "version": "3.11.4"
  }
 },
 "nbformat": 4,
 "nbformat_minor": 5
}

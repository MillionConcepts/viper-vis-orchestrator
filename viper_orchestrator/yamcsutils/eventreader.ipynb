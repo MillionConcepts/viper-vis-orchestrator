{
 "cells": [
  {
   "cell_type": "code",
   "execution_count": null,
   "id": "3f546457",
   "metadata": {},
   "outputs": [],
   "source": [
    "\"\"\"utilities for reading and reformatting parameter records\"\"\"\n",
    "from pyarrow import parquet\n",
    "\n",
    "from event_helpers import (\n",
    "    unpack_pickled_parameters, pivot_blobs, write_parquet_and_blobs, cast_to_nullable_integer\n",
    ")"
   ]
  },
  {
   "cell_type": "code",
   "execution_count": null,
   "id": "d6fbe76f",
   "metadata": {},
   "outputs": [],
   "source": [
    "# make the table and blobs\n",
    "param_df = unpack_pickled_parameters('of_interest_23_07_21.pkl')\n",
    "rec_df, bytevals, bytefields = pivot_blobs(param_df)\n",
    "write_parquet_and_blobs(rec_df, bytevals, bytefields, 'mock_events_b6s3_part_square_fixed')"
   ]
  },
  {
   "cell_type": "code",
   "execution_count": null,
   "id": "2e3c39db",
   "metadata": {},
   "outputs": [],
   "source": [
    "# read the table\n",
    "ievents = cast_to_nullable_integer(\n",
    "    parquet.read_table('mock_events_b6s3_part_square_fixed/events.parquet').to_pandas()\n",
    ")"
   ]
  },
  {
   "cell_type": "code",
   "execution_count": null,
   "id": "3c865239",
   "metadata": {
    "scrolled": false
   },
   "outputs": [],
   "source": [
    "ievents"
   ]
  },
  {
   "cell_type": "code",
   "execution_count": null,
   "id": "be5200db",
   "metadata": {},
   "outputs": [],
   "source": [
    "a[2]"
   ]
  }
 ],
 "metadata": {
  "kernelspec": {
   "display_name": "Python 3 (ipykernel)",
   "language": "python",
   "name": "python3"
  },
  "language_info": {
   "codemirror_mode": {
    "name": "ipython",
    "version": 3
   },
   "file_extension": ".py",
   "mimetype": "text/x-python",
   "name": "python",
   "nbconvert_exporter": "python",
   "pygments_lexer": "ipython3",
   "version": "3.11.2"
  }
 },
 "nbformat": 4,
 "nbformat_minor": 5
}

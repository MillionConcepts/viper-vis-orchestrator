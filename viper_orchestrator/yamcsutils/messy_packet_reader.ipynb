{
 "cells": [
  {
   "cell_type": "code",
   "execution_count": null,
   "id": "1fc83f2c",
   "metadata": {},
   "outputs": [],
   "source": [
    "from functools import partial\n",
    "from io import FileIO\n",
    "from itertools import chain\n",
    "from multiprocessing import Pool\n",
    "from pathlib import Path\n",
    "import re\n",
    "import time\n",
    "from typing import MutableSequence\n",
    "import psutil\n",
    "\n",
    "from bs4 import BeautifulSoup\n",
    "from cytoolz import merge\n",
    "from google.protobuf.json_format import MessageToDict\n",
    "from hostess.directory import (\n",
    "    index_breadth_first, make_level_table, make_treeframe\n",
    ")\n",
    "from hostess.monitors import (\n",
    "    make_monitors, make_stat_printer, make_stat_records\n",
    ")\n",
    "from hostess.utilities import notary\n",
    "from more_itertools import divide, distribute\n",
    "import pandas as pd\n",
    "from rich import print as rp, inspect as ri\n",
    "from yamcs.client import YamcsClient\n",
    "\n",
    "# from mdbparser import find_toplevel_def_files, parse_ground_parameters\n",
    "from yamcs_server_utilz import (\n",
    "    get_yamcsd_url,\n",
    "    run_yamcs_server, \n",
    "    open_yamcs_socket, \n",
    "    serve_packet, \n",
    "    read_packet,\n",
    "    toggle_yamcsd_tcp\n",
    ")"
   ]
  },
  {
   "cell_type": "code",
   "execution_count": null,
   "id": "d2394120",
   "metadata": {},
   "outputs": [],
   "source": [
    "of_interest = (\n",
    "    # these denote image file publications rather than blobs\n",
    "#     '/ViperGround/Images/Hazcam_back_left_image',\n",
    "#     '/ViperGround/Images/Hazcam_back_right_image',\n",
    "#     '/ViperGround/Images/Hazcam_front_left_image',\n",
    "#     '/ViperGround/Images/Hazcam_front_right_image',\n",
    "    '/ViperGround/Images/ImageData/Hazcam_back_left_icer',\n",
    "#     '/ViperGround/Images/ImageData/Hazcam_back_left_jpeg',\n",
    "#     '/ViperGround/Images/ImageData/Hazcam_back_left_slog',\n",
    "    '/ViperGround/Images/ImageData/Hazcam_back_right_icer',\n",
    "#     '/ViperGround/Images/ImageData/Hazcam_back_right_jpeg',\n",
    "#     '/ViperGround/Images/ImageData/Hazcam_back_right_slog',\n",
    "    '/ViperGround/Images/ImageData/Hazcam_front_left_icer',\n",
    "#     '/ViperGround/Images/ImageData/Hazcam_front_left_jpeg',\n",
    "#     '/ViperGround/Images/ImageData/Hazcam_front_left_slog',\n",
    "    '/ViperGround/Images/ImageData/Hazcam_front_right_icer',\n",
    "#     '/ViperGround/Images/ImageData/Hazcam_front_right_jpeg',\n",
    "#     '/ViperGround/Images/ImageData/Hazcam_front_right_slog',\n",
    "    \"/ViperGround/Images/ImageData/Navcam_left_icer\",\n",
    "    \"/ViperGround/Images/ImageData/Navcam_right_icer\",\n",
    "    \"/ViperGround/Images/ImageData/Aftcam_left_icer\",\n",
    "    \"/ViperGround/Images/ImageData/Aftcam_right_icer\",\n",
    "#     '/ViperGround/Mapping/navcamDEM',\n",
    "#     '/ViperGround/Mapping/navcamDEMHighRes',\n",
    "#     '/ViperGround/Mapping/navcamHazmapColor',\n",
    "#     '/ViperGround/Mapping/navcamOrthoimage',\n",
    "#     '/ViperGround/Mapping/navcamOrthoimageHighRes',\n",
    "#     '/ViperRover/CameraIo/aftCamLeft',\n",
    "#     '/ViperRover/CameraIo/aftCamRight',\n",
    "#     '/ViperRover/CameraIo/hazcam1',\n",
    "#     '/ViperRover/CameraIo/hazcam2',\n",
    "#     '/ViperRover/CameraIo/hazcam3',\n",
    "#     '/ViperRover/CameraIo/hazcam4',\n",
    "#     '/ViperRover/CameraIo/imageHeaderMsg',\n",
    "#     '/ViperRover/CameraIo/imagePointer',\n",
    "#     '/ViperRover/CameraIo/inputImageType',\n",
    "#     '/ViperRover/CameraIo/navcamLeft',\n",
    "#     '/ViperRover/CameraIo/navcamRight',\n",
    "#     # only the top of the queue\n",
    "# #     '/ViperRover/ImageCache/downlinkQueue',\n",
    "#     # raw image data? we don't have to watch it probably\n",
    "#     '/ViperRover/ImageCache/imageData',\n",
    "#     '/ViperRover/ImageCache/inputImageType',\n",
    "#     # probably not a thing\n",
    "# #     '/ViperRover/ImageCache/losslessCache',\n",
    "#     '/ViperRover/ImageCache/outputImageType',\n",
    "#     '/ViperRover/ImageProcessing/cacheQueueItems',\n",
    "#     '/ViperRover/ImageProcessing/cacheQueueNumEntries',\n",
    "#     '/ViperRover/ImageProcessing/cameraQueueItems',\n",
    "#     '/ViperRover/ImageProcessing/cameraQueueNumEntries',\n",
    "#     '/ViperRover/ImageProcessing/imageHeaderMsg',\n",
    "#     # probably memory pointer in classic sense\n",
    "#     '/ViperRover/ImageProcessing/imagePointer',\n",
    "#     '/ViperRover/ImageProcessing/inputImageType',\n",
    "#     '/ViperRover/ImageProcessing/latestCameraId',\n",
    "#     '/ViperRover/ImageProcessing/latestImageId',\n",
    "#     '/ViperRover/ImageProcessing/latestProcessingStage',\n",
    "#     # probably, again, onboard processing only\n",
    "#     '/ViperRover/ImageProcessing/rawPoolFreeSlots',\n",
    "#     '/ViperRover/ImageProcessing/slogPoolFreeSlots',\n",
    "#     '/ViperRover/LightsControl/state'\n",
    ")\n",
    "    # includes a 'reserved' value but probably does not refer\n",
    "    # to slots\n",
    "#     '/ViperRover/CameraIo/encodedBothCCUsHousekeeping',\n",
    "    # probably just a packet stream counter.\n",
    "#     '/ViperRover/ImageCache/chunkId',\n",
    "    # cacheQueueItems and cameraQueue items, while possibly interesting,\n",
    "    # do not appear to contain information about the CCU slots.\n",
    "    # note that NIRVSS parameters do not appear to contain useful information,\n",
    "# at least not explicitly."
   ]
  },
  {
   "cell_type": "code",
   "execution_count": null,
   "id": "1dfd8ab9",
   "metadata": {},
   "outputs": [],
   "source": [
    "# note: throwing exceptions inside threads appears to terminate \n",
    "# the server process due to some kind of shielding thing. unclear \n",
    "# whether this just happens in Jupyter. anyway, make sure\n",
    "# to use timeouts consistently. \n",
    "# note: if the server quits ungracefully, it may leave rockDB\n",
    "# lock files in _global.rdb and viper.rdb, and you will have\n",
    "# to clean them. it can also corrupt other files in yamcs-data,\n",
    "# so it might be best to just delete the whole subdirectory \n",
    "# (it automatically recreates it at runtime)\n",
    "server_process = run_yamcs_server(enable_tcp=True)\n",
    "# unless loglevel is 0...\n",
    "# yamcsd_url = get_yamcsd_url(server_process)\n",
    "yamcsd_url = 'localhost:8090/yamcs'\n",
    "server_process.running"
   ]
  },
  {
   "cell_type": "code",
   "execution_count": null,
   "id": "2b97d28b",
   "metadata": {},
   "outputs": [],
   "source": [
    "def unpack_parameter_value(value):\n",
    "    rec = {}\n",
    "    for key in (\n",
    "        'eng_value',\n",
    "        'generation_time',\n",
    "        'monitoring_result',\n",
    "        'name',\n",
    "        'processing_status',\n",
    "        'range_condition',\n",
    "        'raw_value',\n",
    "        'reception_time',\n",
    "        'validity_duration',\n",
    "        'validity_status'\n",
    "    ):\n",
    "        rec[key] = getattr(value, key)\n",
    "    return rec\n",
    "\n",
    "def unpack_parameters(messages):\n",
    "    return [\n",
    "        unpack_parameter_value(value) \n",
    "        for value in messages.parameters\n",
    "    ]\n",
    "\n",
    "def unpack_parameters_into(cache: MutableSequence):\n",
    "    def unpacker(message):\n",
    "        cache.extend(unpack_parameters(message))\n",
    "    return unpacker\n",
    "\n",
    "\n",
    "def subscribe_and_report(parameters, url, pid):\n",
    "    client = YamcsClient(url)\n",
    "    processor = client.get_processor('viper', 'realtime')\n",
    "    cache = []\n",
    "    unpacker = unpack_parameters_into(cache)\n",
    "    subscription = processor.create_parameter_subscription(\n",
    "        parameters, on_data=unpacker\n",
    "    )\n",
    "    exception = None\n",
    "    is_done, is_closed = False, False\n",
    "    while subscription.running():\n",
    "        response = None\n",
    "        try:\n",
    "            response = subscription.exception(0.2)\n",
    "            if isinstance(response, Exception):\n",
    "                if not psutil.pid_exists(server_process.pid):\n",
    "                    status = 'server shutdown'\n",
    "                else:\n",
    "                    status = 'unknown'\n",
    "                return {\n",
    "                    'status': status,\n",
    "                    'response': response, \n",
    "                    'cache': cache,\n",
    "                    'parameters': parameters\n",
    "                }\n",
    "        except Exception as ex:\n",
    "            if \"timed\" in str(ex).lower():\n",
    "                continue\n",
    "            return {\n",
    "                'status': 'failed', \n",
    "                'response': response, \n",
    "                'request_exception': ex,\n",
    "                'cache': cache,\n",
    "                'parameters': parameters\n",
    "            }\n",
    "    if psutil.pid_exists(server_process.pid):\n",
    "        status = 'server shutdown'\n",
    "    else:\n",
    "        status = 'unknown'\n",
    "    return {\n",
    "        'status': 'ok', 'cache': cache, 'parameters': parameters\n",
    "    }"
   ]
  },
  {
   "cell_type": "code",
   "execution_count": null,
   "id": "d30e8b5e",
   "metadata": {},
   "outputs": [],
   "source": [
    "# client = YamcsClient(yamcsd_url)\n",
    "# processor = client.get_processor('viper', 'realtime')\n",
    "# cache = []\n",
    "# unpacker = unpack_parameters_into(cache)\n",
    "# subscription = processor.create_parameter_subscription(\n",
    "#     of_interest + ('/Ccsds/apid',), on_data=unpacker\n",
    "# )\n"
   ]
  },
  {
   "cell_type": "code",
   "execution_count": null,
   "id": "e8af7e72",
   "metadata": {},
   "outputs": [],
   "source": [
    "yamcsd_url = 'localhost:8090/yamcs'\n",
    "client = YamcsClient(yamcsd_url)\n",
    "mdb = client.get_mdb('viper')\n",
    "params = tuple(mdb.list_parameters())\n",
    "parameter_paths = [p.qualified_name for p in params]\n",
    "iio = [p.qualified_name for p in params if 'wheel' in p.qualified_name.lower()]\n",
    "# ri(iio[0], all=True)"
   ]
  },
  {
   "cell_type": "code",
   "execution_count": null,
   "id": "fd31f722",
   "metadata": {},
   "outputs": [],
   "source": [
    "chunks = [tuple(d) for d in distribute(10, of_interest)]\n",
    "pool, results = Pool(10), []\n",
    "for chunk in chunks:\n",
    "    future = pool.apply_async(\n",
    "        subscribe_and_report, (chunk, yamcsd_url, server_process.pid)\n",
    "    )\n",
    "    results.append(future)\n",
    "pool.close()"
   ]
  },
  {
   "cell_type": "code",
   "execution_count": null,
   "id": "290fa14f",
   "metadata": {},
   "outputs": [],
   "source": [
    "sock = open_yamcs_socket()\n",
    "rawfile = 'packets.b6s3.part-square.fixed.raw'\n",
    "packetstream = FileIO(rawfile, 'rb')\n",
    "mons = make_monitors()\n",
    "mons.pop('cpu')\n",
    "mons.pop('memory')\n",
    "mons.pop('diskio')\n",
    "mons.pop('networkio')\n",
    "mons.pop('disk')\n",
    "dashrecs = make_stat_records(mons)\n",
    "dash = make_stat_printer(mons)"
   ]
  },
  {
   "cell_type": "code",
   "execution_count": null,
   "id": "eae8a235",
   "metadata": {
    "scrolled": false
   },
   "outputs": [],
   "source": [
    "# repeat ad nauseam -- 1071166 total packets\n",
    "# packetstream.seek(0)\n",
    "dash()\n",
    "i = 0\n",
    "try:\n",
    "    reading = True\n",
    "    while reading:\n",
    "#     for n in range(100000):\n",
    "        packet = read_packet(packetstream)\n",
    "        serve_packet(sock, packet)\n",
    "        i += 1\n",
    "        if i % 30000 == 0:\n",
    "            print(i)\n",
    "            print(dash(which='interval').replace(';','\\n'))\n",
    "            print(\n",
    "                'crashed processes:', \n",
    "                len(tuple(filter(lambda r: r.ready(), results)))\n",
    "            )\n",
    "#             time.sleep(0.00001)\n",
    "except Exception as ex:\n",
    "    if str(ex) == \"unpack requires a buffer of 6 bytes\":\n",
    "        print(\"reached end of file.\")\n",
    "        reading = False\n",
    "    else:\n",
    "        raise\n",
    "finally:\n",
    "    sock.close()\n",
    "#     server_process.terminate()\n",
    "    packetstream.close()"
   ]
  },
  {
   "cell_type": "code",
   "execution_count": null,
   "id": "201fb0ee",
   "metadata": {},
   "outputs": [],
   "source": [
    "print(dash(which='total'))\n",
    "print(\n",
    "    'crashed processes:', \n",
    "    len(tuple(filter(lambda r: r.ready(), results)))\n",
    ")"
   ]
  },
  {
   "cell_type": "code",
   "execution_count": null,
   "id": "8fad4618",
   "metadata": {},
   "outputs": [],
   "source": [
    "server_process.terminate()\n",
    "recs = []\n",
    "for ix, result in enumerate(results):\n",
    "    print(ix)\n",
    "    recs.append(result.get())\n",
    "pool.terminate()"
   ]
  },
  {
   "cell_type": "code",
   "execution_count": null,
   "id": "64902ee2",
   "metadata": {},
   "outputs": [],
   "source": [
    "import pickle\n",
    "\n",
    "with open('of_interest_23_07_21.pkl', 'wb') as stream:\n",
    "    pickle.dump(recs, stream)"
   ]
  },
  {
   "cell_type": "code",
   "execution_count": null,
   "id": "d2abadfa",
   "metadata": {},
   "outputs": [],
   "source": [
    "archive = client.get_archive('viper')"
   ]
  },
  {
   "cell_type": "code",
   "execution_count": null,
   "id": "0e81bef0",
   "metadata": {
    "scrolled": true
   },
   "outputs": [],
   "source": [
    "for group in archive.list_processed_parameter_groups():\n",
    "    frame_count = 0\n",
    "    for pp_group in archive.list_processed_parameter_group_histogram(group):\n",
    "        for rec in pp_group.records:\n",
    "            frame_count += rec.count\n",
    "    print(f\"  {group: <40} {frame_count: >20}\")"
   ]
  },
  {
   "cell_type": "code",
   "execution_count": null,
   "id": "8116ccc1",
   "metadata": {
    "scrolled": false
   },
   "outputs": [],
   "source": [
    "roverground = [p for p in parameters if p.qualified_name.startswith('/Viper')]"
   ]
  },
  {
   "cell_type": "code",
   "execution_count": null,
   "id": "98f7d86e",
   "metadata": {},
   "outputs": [],
   "source": [
    "roverground[3].qualified_name"
   ]
  },
  {
   "cell_type": "code",
   "execution_count": null,
   "id": "f6cbf9d6",
   "metadata": {},
   "outputs": [],
   "source": [
    "for p in roverground:\n",
    "    history = archive.list_parameter_ranges(p)\n",
    "    if len(history) > 0:\n",
    "        break"
   ]
  },
  {
   "cell_type": "code",
   "execution_count": null,
   "id": "7d052299",
   "metadata": {},
   "outputs": [],
   "source": [
    "try:\n",
    "    next(iter(values))\n",
    "except Exception as e:\n",
    "    print(type(e))"
   ]
  },
  {
   "cell_type": "code",
   "execution_count": null,
   "id": "b1b464db",
   "metadata": {},
   "outputs": [],
   "source": [
    "from yamcs.core.exceptions import NotFound"
   ]
  },
  {
   "cell_type": "code",
   "execution_count": null,
   "id": "b39d0a47",
   "metadata": {},
   "outputs": [],
   "source": [
    "unpack_parameter_value(value)"
   ]
  },
  {
   "cell_type": "code",
   "execution_count": null,
   "id": "9c4070f7",
   "metadata": {},
   "outputs": [],
   "source": []
  },
  {
   "cell_type": "code",
   "execution_count": null,
   "id": "e520ba4f",
   "metadata": {
    "scrolled": false
   },
   "outputs": [],
   "source": [
    "records = []\n",
    "for parameter in roverground:\n",
    "    qname = parameter.qualified_name.lower()\n",
    "    if 'wheel' in qname:\n",
    "        continue\n",
    "    if ('rover' in qname) and ('image' not in qname):\n",
    "        continue\n",
    "    try:\n",
    "        values = tuple(archive.list_parameter_values(parameter))\n",
    "    except NotFound:\n",
    "        print(f\"{parameter}: no values\")\n",
    "        continue\n",
    "    print(f\"{parameter}: {len(values)}\")\n",
    "    for value in values:\n",
    "        records.append(unpack_parameter_value(value))\n",
    "    break"
   ]
  },
  {
   "cell_type": "code",
   "execution_count": null,
   "id": "ab6e6539",
   "metadata": {},
   "outputs": [],
   "source": []
  },
  {
   "cell_type": "code",
   "execution_count": null,
   "id": "92b67563",
   "metadata": {},
   "outputs": [],
   "source": []
  },
  {
   "cell_type": "code",
   "execution_count": null,
   "id": "872626ef",
   "metadata": {},
   "outputs": [],
   "source": []
  },
  {
   "cell_type": "code",
   "execution_count": null,
   "id": "d9441392",
   "metadata": {},
   "outputs": [],
   "source": [
    "pv = next(iter(phist))"
   ]
  },
  {
   "cell_type": "code",
   "execution_count": null,
   "id": "d3717c65",
   "metadata": {},
   "outputs": [],
   "source": [
    "iteriter = iter(phist)"
   ]
  },
  {
   "cell_type": "code",
   "execution_count": null,
   "id": "7fd6cd16",
   "metadata": {},
   "outputs": [],
   "source": [
    "next(iter(phist)"
   ]
  },
  {
   "cell_type": "code",
   "execution_count": null,
   "id": "7a235ef3",
   "metadata": {
    "scrolled": false
   },
   "outputs": [],
   "source": []
  },
  {
   "cell_type": "code",
   "execution_count": null,
   "id": "23910ec6",
   "metadata": {},
   "outputs": [],
   "source": [
    "\n",
    "# lower level stuff:\n",
    "# viper = next(filter(lambda i: i.name == 'viper', client.list_instances()))\n",
    "# instance = viper._proto\n",
    "# mdb = instance.missionDatabase\n",
    "# spacesystems = list(map(MessageToDict, mdb.spaceSystem))"
   ]
  },
  {
   "cell_type": "code",
   "execution_count": null,
   "id": "ae571307",
   "metadata": {},
   "outputs": [],
   "source": []
  },
  {
   "cell_type": "code",
   "execution_count": null,
   "id": "62622073",
   "metadata": {},
   "outputs": [],
   "source": []
  },
  {
   "cell_type": "code",
   "execution_count": null,
   "id": "96b5b698",
   "metadata": {},
   "outputs": [],
   "source": []
  },
  {
   "cell_type": "code",
   "execution_count": null,
   "id": "8d594658",
   "metadata": {},
   "outputs": [],
   "source": [
    "1"
   ]
  },
  {
   "cell_type": "code",
   "execution_count": null,
   "id": "ecb4eef9",
   "metadata": {},
   "outputs": [],
   "source": [
    "results[2].get()"
   ]
  },
  {
   "cell_type": "code",
   "execution_count": null,
   "id": "e945edd5",
   "metadata": {},
   "outputs": [],
   "source": [
    "server_process.terminate()"
   ]
  },
  {
   "cell_type": "code",
   "execution_count": null,
   "id": "90ed87c9",
   "metadata": {},
   "outputs": [],
   "source": [
    "results[0].ready()"
   ]
  },
  {
   "cell_type": "code",
   "execution_count": null,
   "id": "6af5f426",
   "metadata": {},
   "outputs": [],
   "source": [
    "results = [r.get() for r in results]"
   ]
  },
  {
   "cell_type": "code",
   "execution_count": null,
   "id": "562eaf0f",
   "metadata": {},
   "outputs": [],
   "source": [
    "from hostess.utilities import mb\n",
    "from hostess.profilers import asizeof"
   ]
  },
  {
   "cell_type": "code",
   "execution_count": null,
   "id": "e07cf978",
   "metadata": {},
   "outputs": [],
   "source": [
    "mb(asizeof(cache))"
   ]
  },
  {
   "cell_type": "code",
   "execution_count": null,
   "id": "9af1ff8e",
   "metadata": {},
   "outputs": [],
   "source": [
    "len(cache)"
   ]
  },
  {
   "cell_type": "code",
   "execution_count": null,
   "id": "0d7847f4",
   "metadata": {},
   "outputs": [],
   "source": []
  },
  {
   "cell_type": "code",
   "execution_count": null,
   "id": "8a01f63a",
   "metadata": {
    "scrolled": false
   },
   "outputs": [],
   "source": [
    "unpack_parameters(values[3])"
   ]
  },
  {
   "cell_type": "code",
   "execution_count": null,
   "id": "0b94bf54",
   "metadata": {},
   "outputs": [],
   "source": [
    "dir(values[3].parameters[0])"
   ]
  },
  {
   "cell_type": "code",
   "execution_count": null,
   "id": "8026185b",
   "metadata": {},
   "outputs": [],
   "source": [
    "server_process.err[-30:]"
   ]
  },
  {
   "cell_type": "code",
   "execution_count": null,
   "id": "193eafa6",
   "metadata": {},
   "outputs": [],
   "source": [
    "psubscription.result(1)"
   ]
  },
  {
   "cell_type": "code",
   "execution_count": null,
   "id": "2ba639ba",
   "metadata": {},
   "outputs": [],
   "source": [
    "psubscription.done()"
   ]
  },
  {
   "cell_type": "code",
   "execution_count": null,
   "id": "1220d774",
   "metadata": {
    "scrolled": false
   },
   "outputs": [],
   "source": [
    "ri(psubscription, all=True)"
   ]
  },
  {
   "cell_type": "code",
   "execution_count": null,
   "id": "0dd5c0ba",
   "metadata": {
    "scrolled": false
   },
   "outputs": [],
   "source": [
    "server_process.err[-3:]"
   ]
  },
  {
   "cell_type": "code",
   "execution_count": null,
   "id": "6fc083c0",
   "metadata": {},
   "outputs": [],
   "source": []
  },
  {
   "cell_type": "code",
   "execution_count": null,
   "id": "b2772f80",
   "metadata": {},
   "outputs": [],
   "source": [
    "psubscription.result()"
   ]
  },
  {
   "cell_type": "code",
   "execution_count": null,
   "id": "3e4b6486",
   "metadata": {},
   "outputs": [],
   "source": []
  },
  {
   "cell_type": "code",
   "execution_count": null,
   "id": "dfaa53ad",
   "metadata": {},
   "outputs": [],
   "source": []
  },
  {
   "cell_type": "code",
   "execution_count": null,
   "id": "7aca32c6",
   "metadata": {},
   "outputs": [],
   "source": []
  },
  {
   "cell_type": "code",
   "execution_count": null,
   "id": "08a5c27b",
   "metadata": {},
   "outputs": [],
   "source": [
    "1"
   ]
  },
  {
   "cell_type": "code",
   "execution_count": null,
   "id": "9fa845fc",
   "metadata": {},
   "outputs": [],
   "source": []
  },
  {
   "cell_type": "code",
   "execution_count": null,
   "id": "50094a49",
   "metadata": {},
   "outputs": [],
   "source": []
  },
  {
   "cell_type": "code",
   "execution_count": null,
   "id": "35fe3c39",
   "metadata": {},
   "outputs": [],
   "source": [
    "ri(subscription, methods=True)"
   ]
  },
  {
   "cell_type": "code",
   "execution_count": null,
   "id": "e18efe8c",
   "metadata": {},
   "outputs": [],
   "source": [
    "sub = system.sub[0]"
   ]
  },
  {
   "cell_type": "code",
   "execution_count": null,
   "id": "13192349",
   "metadata": {
    "scrolled": false
   },
   "outputs": [],
   "source": [
    "sub.sub"
   ]
  },
  {
   "cell_type": "code",
   "execution_count": null,
   "id": "8df13edf",
   "metadata": {},
   "outputs": [],
   "source": [
    "type(sub)"
   ]
  },
  {
   "cell_type": "code",
   "execution_count": null,
   "id": "6aa0b625",
   "metadata": {},
   "outputs": [],
   "source": [
    "subscriptions = ground.sub"
   ]
  },
  {
   "cell_type": "code",
   "execution_count": null,
   "id": "04f7e982",
   "metadata": {},
   "outputs": [],
   "source": []
  },
  {
   "cell_type": "code",
   "execution_count": null,
   "id": "f76e8179",
   "metadata": {},
   "outputs": [],
   "source": [
    "link = links[0]._proto"
   ]
  },
  {
   "cell_type": "code",
   "execution_count": null,
   "id": "d4326c05",
   "metadata": {},
   "outputs": [],
   "source": [
    "import json"
   ]
  },
  {
   "cell_type": "code",
   "execution_count": null,
   "id": "5ce03d50",
   "metadata": {},
   "outputs": [],
   "source": [
    "json.loads(link.spec)"
   ]
  },
  {
   "cell_type": "code",
   "execution_count": null,
   "id": "9d182dd5",
   "metadata": {},
   "outputs": [],
   "source": [
    "ri(link)"
   ]
  },
  {
   "cell_type": "code",
   "execution_count": null,
   "id": "4ab47fbe",
   "metadata": {
    "scrolled": false
   },
   "outputs": [],
   "source": [
    "links = tuple(client.list_links(\"viper\"))\n",
    "ri(links[0], all=True)"
   ]
  },
  {
   "cell_type": "code",
   "execution_count": null,
   "id": "e9283d1f",
   "metadata": {
    "scrolled": false
   },
   "outputs": [],
   "source": [
    "type(viper._proto)"
   ]
  },
  {
   "cell_type": "code",
   "execution_count": null,
   "id": "e02b8bb8",
   "metadata": {},
   "outputs": [],
   "source": []
  },
  {
   "cell_type": "code",
   "execution_count": null,
   "id": "864fc167",
   "metadata": {},
   "outputs": [],
   "source": [
    "ri(client.ctx, all=True)"
   ]
  },
  {
   "cell_type": "code",
   "execution_count": null,
   "id": "a26914f7",
   "metadata": {},
   "outputs": [],
   "source": []
  },
  {
   "cell_type": "code",
   "execution_count": null,
   "id": "32b1dd39",
   "metadata": {},
   "outputs": [],
   "source": []
  },
  {
   "cell_type": "code",
   "execution_count": null,
   "id": "5d429da2",
   "metadata": {},
   "outputs": [],
   "source": []
  },
  {
   "cell_type": "code",
   "execution_count": null,
   "id": "d8b3df17",
   "metadata": {},
   "outputs": [],
   "source": []
  },
  {
   "cell_type": "code",
   "execution_count": null,
   "id": "b3b2a2c4",
   "metadata": {},
   "outputs": [],
   "source": [
    "dir(client)"
   ]
  },
  {
   "cell_type": "code",
   "execution_count": null,
   "id": "836b312b",
   "metadata": {},
   "outputs": [],
   "source": []
  },
  {
   "cell_type": "code",
   "execution_count": null,
   "id": "0d0b1250",
   "metadata": {},
   "outputs": [],
   "source": []
  },
  {
   "cell_type": "code",
   "execution_count": null,
   "id": "24cdeb52",
   "metadata": {},
   "outputs": [],
   "source": []
  },
  {
   "cell_type": "code",
   "execution_count": null,
   "id": "1049cdd1",
   "metadata": {},
   "outputs": [],
   "source": []
  },
  {
   "cell_type": "code",
   "execution_count": null,
   "id": "11e2d3a5",
   "metadata": {},
   "outputs": [],
   "source": []
  },
  {
   "cell_type": "code",
   "execution_count": null,
   "id": "e99a8972",
   "metadata": {},
   "outputs": [],
   "source": [
    "defs = find_toplevel_def_files()\n",
    "systems, params = parse_ground_parameters(defs['ground'])"
   ]
  },
  {
   "cell_type": "code",
   "execution_count": null,
   "id": "11d596fb",
   "metadata": {},
   "outputs": [],
   "source": []
  },
  {
   "cell_type": "code",
   "execution_count": null,
   "id": "1e314e75",
   "metadata": {},
   "outputs": [],
   "source": []
  },
  {
   "cell_type": "code",
   "execution_count": null,
   "id": "cb09c910",
   "metadata": {},
   "outputs": [],
   "source": []
  },
  {
   "cell_type": "code",
   "execution_count": null,
   "id": "a5ebff9d",
   "metadata": {},
   "outputs": [],
   "source": []
  },
  {
   "cell_type": "code",
   "execution_count": null,
   "id": "7c3571dd",
   "metadata": {},
   "outputs": [],
   "source": []
  },
  {
   "cell_type": "code",
   "execution_count": null,
   "id": "9c0d2cd0",
   "metadata": {},
   "outputs": [],
   "source": []
  }
 ],
 "metadata": {
  "kernelspec": {
   "display_name": "Python 3 (ipykernel)",
   "language": "python",
   "name": "python3"
  },
  "language_info": {
   "codemirror_mode": {
    "name": "ipython",
    "version": 3
   },
   "file_extension": ".py",
   "mimetype": "text/x-python",
   "name": "python",
   "nbconvert_exporter": "python",
   "pygments_lexer": "ipython3",
   "version": "3.11.2"
  }
 },
 "nbformat": 4,
 "nbformat_minor": 5
}
